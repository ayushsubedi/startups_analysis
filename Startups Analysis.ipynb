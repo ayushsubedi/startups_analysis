{
 "cells": [
  {
   "cell_type": "code",
   "execution_count": 1,
   "metadata": {},
   "outputs": [
    {
     "data": {
      "text/html": [
       "<script>requirejs.config({paths: { 'plotly': ['https://cdn.plot.ly/plotly-latest.min']},});if(!window.Plotly) {{require(['plotly'],function(plotly) {window.Plotly=plotly;});}}</script>"
      ],
      "text/vnd.plotly.v1+html": [
       "<script>requirejs.config({paths: { 'plotly': ['https://cdn.plot.ly/plotly-latest.min']},});if(!window.Plotly) {{require(['plotly'],function(plotly) {window.Plotly=plotly;});}}</script>"
      ]
     },
     "metadata": {},
     "output_type": "display_data"
    }
   ],
   "source": [
    "import pandas as pd\n",
    "import plotly\n",
    "from plotly.offline import init_notebook_mode, iplot\n",
    "import plotly.graph_objs as go\n",
    "import plotly.figure_factory as ff\n",
    "init_notebook_mode(connected=True)"
   ]
  },
  {
   "cell_type": "code",
   "execution_count": 2,
   "metadata": {
    "collapsed": true
   },
   "outputs": [],
   "source": [
    "df_raw = pd.read_csv('data.csv')"
   ]
  },
  {
   "cell_type": "code",
   "execution_count": 3,
   "metadata": {},
   "outputs": [
    {
     "data": {
      "text/html": [
       "<div>\n",
       "<style>\n",
       "    .dataframe thead tr:only-child th {\n",
       "        text-align: right;\n",
       "    }\n",
       "\n",
       "    .dataframe thead th {\n",
       "        text-align: left;\n",
       "    }\n",
       "\n",
       "    .dataframe tbody tr th {\n",
       "        vertical-align: top;\n",
       "    }\n",
       "</style>\n",
       "<table border=\"1\" class=\"dataframe\">\n",
       "  <thead>\n",
       "    <tr style=\"text-align: right;\">\n",
       "      <th></th>\n",
       "      <th>city</th>\n",
       "      <th>country</th>\n",
       "      <th>description</th>\n",
       "      <th>id</th>\n",
       "      <th>name</th>\n",
       "      <th>problem</th>\n",
       "      <th>sector</th>\n",
       "      <th>solution</th>\n",
       "      <th>stage</th>\n",
       "    </tr>\n",
       "  </thead>\n",
       "  <tbody>\n",
       "    <tr>\n",
       "      <th>0</th>\n",
       "      <td>NaN</td>\n",
       "      <td>NaN</td>\n",
       "      <td>NaN</td>\n",
       "      <td>35704</td>\n",
       "      <td>AdNotes Pty Ltd</td>\n",
       "      <td>NaN</td>\n",
       "      <td>Other</td>\n",
       "      <td>NaN</td>\n",
       "      <td>NaN</td>\n",
       "    </tr>\n",
       "    <tr>\n",
       "      <th>1</th>\n",
       "      <td>NaN</td>\n",
       "      <td>NaN</td>\n",
       "      <td>NaN</td>\n",
       "      <td>35705</td>\n",
       "      <td>HMZ Capital</td>\n",
       "      <td>NaN</td>\n",
       "      <td>Other</td>\n",
       "      <td>NaN</td>\n",
       "      <td>NaN</td>\n",
       "    </tr>\n",
       "    <tr>\n",
       "      <th>2</th>\n",
       "      <td>NaN</td>\n",
       "      <td>NaN</td>\n",
       "      <td>NaN</td>\n",
       "      <td>35706</td>\n",
       "      <td>Smartrac</td>\n",
       "      <td>NaN</td>\n",
       "      <td>Other</td>\n",
       "      <td>NaN</td>\n",
       "      <td>NaN</td>\n",
       "    </tr>\n",
       "    <tr>\n",
       "      <th>3</th>\n",
       "      <td>NaN</td>\n",
       "      <td>NaN</td>\n",
       "      <td>NaN</td>\n",
       "      <td>35707</td>\n",
       "      <td>Rising Businesses Africa</td>\n",
       "      <td>NaN</td>\n",
       "      <td>Other</td>\n",
       "      <td>NaN</td>\n",
       "      <td>NaN</td>\n",
       "    </tr>\n",
       "    <tr>\n",
       "      <th>4</th>\n",
       "      <td>NaN</td>\n",
       "      <td>NaN</td>\n",
       "      <td>NaN</td>\n",
       "      <td>35708</td>\n",
       "      <td>Blue Fortune Communications</td>\n",
       "      <td>NaN</td>\n",
       "      <td>Other</td>\n",
       "      <td>NaN</td>\n",
       "      <td>NaN</td>\n",
       "    </tr>\n",
       "  </tbody>\n",
       "</table>\n",
       "</div>"
      ],
      "text/plain": [
       "  city country description     id                         name problem sector  \\\n",
       "0  NaN     NaN         NaN  35704              AdNotes Pty Ltd     NaN  Other   \n",
       "1  NaN     NaN         NaN  35705                  HMZ Capital     NaN  Other   \n",
       "2  NaN     NaN         NaN  35706                     Smartrac     NaN  Other   \n",
       "3  NaN     NaN         NaN  35707     Rising Businesses Africa     NaN  Other   \n",
       "4  NaN     NaN         NaN  35708  Blue Fortune Communications     NaN  Other   \n",
       "\n",
       "  solution stage  \n",
       "0      NaN   NaN  \n",
       "1      NaN   NaN  \n",
       "2      NaN   NaN  \n",
       "3      NaN   NaN  \n",
       "4      NaN   NaN  "
      ]
     },
     "execution_count": 3,
     "metadata": {},
     "output_type": "execute_result"
    }
   ],
   "source": [
    "df_raw.head()"
   ]
  },
  {
   "cell_type": "code",
   "execution_count": 4,
   "metadata": {
    "collapsed": true
   },
   "outputs": [],
   "source": [
    "df = df_raw[df_raw.problem.notnull()]"
   ]
  },
  {
   "cell_type": "code",
   "execution_count": 5,
   "metadata": {
    "scrolled": true
   },
   "outputs": [
    {
     "data": {
      "text/html": [
       "<div>\n",
       "<style>\n",
       "    .dataframe thead tr:only-child th {\n",
       "        text-align: right;\n",
       "    }\n",
       "\n",
       "    .dataframe thead th {\n",
       "        text-align: left;\n",
       "    }\n",
       "\n",
       "    .dataframe tbody tr th {\n",
       "        vertical-align: top;\n",
       "    }\n",
       "</style>\n",
       "<table border=\"1\" class=\"dataframe\">\n",
       "  <thead>\n",
       "    <tr style=\"text-align: right;\">\n",
       "      <th></th>\n",
       "      <th>city</th>\n",
       "      <th>country</th>\n",
       "      <th>description</th>\n",
       "      <th>id</th>\n",
       "      <th>name</th>\n",
       "      <th>problem</th>\n",
       "      <th>sector</th>\n",
       "      <th>solution</th>\n",
       "      <th>stage</th>\n",
       "    </tr>\n",
       "  </thead>\n",
       "  <tbody>\n",
       "    <tr>\n",
       "      <th>29</th>\n",
       "      <td>NaN</td>\n",
       "      <td>NaN</td>\n",
       "      <td>Robin Food is an app that allows people to cap...</td>\n",
       "      <td>35733</td>\n",
       "      <td>Robin Food</td>\n",
       "      <td>People throw away millions of rand worth of fo...</td>\n",
       "      <td>Food and Beverage</td>\n",
       "      <td>We notify people to consume the foods that wil...</td>\n",
       "      <td>Development Stage</td>\n",
       "    </tr>\n",
       "    <tr>\n",
       "      <th>30</th>\n",
       "      <td>NaN</td>\n",
       "      <td>NaN</td>\n",
       "      <td>We help moms experience brands by matching the...</td>\n",
       "      <td>35734</td>\n",
       "      <td>You, Baby and I</td>\n",
       "      <td>Moms are too overwhelmed with the numerous pro...</td>\n",
       "      <td>Advertising and Marketing</td>\n",
       "      <td>We bring moms and brands together, so moms can...</td>\n",
       "      <td>Development Stage</td>\n",
       "    </tr>\n",
       "    <tr>\n",
       "      <th>31</th>\n",
       "      <td>NaN</td>\n",
       "      <td>NaN</td>\n",
       "      <td>Building revolutionary wearable medical device...</td>\n",
       "      <td>35735</td>\n",
       "      <td>Vitls</td>\n",
       "      <td>Vitals monitoring-HOME:Discontinuous,unsettlin...</td>\n",
       "      <td>MedTech / BioTech</td>\n",
       "      <td>A small wireless device allowing users to cont...</td>\n",
       "      <td>Development Stage</td>\n",
       "    </tr>\n",
       "    <tr>\n",
       "      <th>32</th>\n",
       "      <td>NaN</td>\n",
       "      <td>NaN</td>\n",
       "      <td>Study skills add two grades to academic perfor...</td>\n",
       "      <td>35736</td>\n",
       "      <td>SASSI</td>\n",
       "      <td>50% of students dont get to final high school ...</td>\n",
       "      <td>EdTech</td>\n",
       "      <td>Study skills training is easy, proven and chea...</td>\n",
       "      <td>Beta Testing Stage</td>\n",
       "    </tr>\n",
       "    <tr>\n",
       "      <th>33</th>\n",
       "      <td>NaN</td>\n",
       "      <td>NaN</td>\n",
       "      <td>Safe Zones will change the personal GPS tracke...</td>\n",
       "      <td>35737</td>\n",
       "      <td>Guardian Angel Safety Solution</td>\n",
       "      <td>Every 5 hours a child goes missing in SA and 1...</td>\n",
       "      <td>Security</td>\n",
       "      <td>Safe Zones offer a personal safety solution fo...</td>\n",
       "      <td>Development Stage</td>\n",
       "    </tr>\n",
       "  </tbody>\n",
       "</table>\n",
       "</div>"
      ],
      "text/plain": [
       "   city country                                        description     id  \\\n",
       "29  NaN     NaN  Robin Food is an app that allows people to cap...  35733   \n",
       "30  NaN     NaN  We help moms experience brands by matching the...  35734   \n",
       "31  NaN     NaN  Building revolutionary wearable medical device...  35735   \n",
       "32  NaN     NaN  Study skills add two grades to academic perfor...  35736   \n",
       "33  NaN     NaN  Safe Zones will change the personal GPS tracke...  35737   \n",
       "\n",
       "                              name  \\\n",
       "29                      Robin Food   \n",
       "30                 You, Baby and I   \n",
       "31                           Vitls   \n",
       "32                           SASSI   \n",
       "33  Guardian Angel Safety Solution   \n",
       "\n",
       "                                              problem  \\\n",
       "29  People throw away millions of rand worth of fo...   \n",
       "30  Moms are too overwhelmed with the numerous pro...   \n",
       "31  Vitals monitoring-HOME:Discontinuous,unsettlin...   \n",
       "32  50% of students dont get to final high school ...   \n",
       "33  Every 5 hours a child goes missing in SA and 1...   \n",
       "\n",
       "                       sector  \\\n",
       "29          Food and Beverage   \n",
       "30  Advertising and Marketing   \n",
       "31          MedTech / BioTech   \n",
       "32                     EdTech   \n",
       "33                   Security   \n",
       "\n",
       "                                             solution               stage  \n",
       "29  We notify people to consume the foods that wil...   Development Stage  \n",
       "30  We bring moms and brands together, so moms can...   Development Stage  \n",
       "31  A small wireless device allowing users to cont...   Development Stage  \n",
       "32  Study skills training is easy, proven and chea...  Beta Testing Stage  \n",
       "33  Safe Zones offer a personal safety solution fo...   Development Stage  "
      ]
     },
     "execution_count": 5,
     "metadata": {},
     "output_type": "execute_result"
    }
   ],
   "source": [
    "df.head()"
   ]
  },
  {
   "cell_type": "markdown",
   "metadata": {},
   "source": [
    "## Startup Sectors"
   ]
  },
  {
   "cell_type": "code",
   "execution_count": 6,
   "metadata": {
    "collapsed": true
   },
   "outputs": [],
   "source": [
    "sector_df = pd.DataFrame({'sector_count':df.groupby('sector').size()})"
   ]
  },
  {
   "cell_type": "markdown",
   "metadata": {},
   "source": [
    "### Top 5 Sectors"
   ]
  },
  {
   "cell_type": "code",
   "execution_count": 7,
   "metadata": {},
   "outputs": [
    {
     "data": {
      "text/html": [
       "<div>\n",
       "<style>\n",
       "    .dataframe thead tr:only-child th {\n",
       "        text-align: right;\n",
       "    }\n",
       "\n",
       "    .dataframe thead th {\n",
       "        text-align: left;\n",
       "    }\n",
       "\n",
       "    .dataframe tbody tr th {\n",
       "        vertical-align: top;\n",
       "    }\n",
       "</style>\n",
       "<table border=\"1\" class=\"dataframe\">\n",
       "  <thead>\n",
       "    <tr style=\"text-align: right;\">\n",
       "      <th></th>\n",
       "      <th>sector_count</th>\n",
       "    </tr>\n",
       "    <tr>\n",
       "      <th>sector</th>\n",
       "      <th></th>\n",
       "    </tr>\n",
       "  </thead>\n",
       "  <tbody>\n",
       "    <tr>\n",
       "      <th>Other</th>\n",
       "      <td>1165</td>\n",
       "    </tr>\n",
       "    <tr>\n",
       "      <th>EdTech</th>\n",
       "      <td>967</td>\n",
       "    </tr>\n",
       "    <tr>\n",
       "      <th>FinTech</th>\n",
       "      <td>830</td>\n",
       "    </tr>\n",
       "    <tr>\n",
       "      <th>Consumer Services</th>\n",
       "      <td>735</td>\n",
       "    </tr>\n",
       "    <tr>\n",
       "      <th>Travel and Transport</th>\n",
       "      <td>707</td>\n",
       "    </tr>\n",
       "  </tbody>\n",
       "</table>\n",
       "</div>"
      ],
      "text/plain": [
       "                      sector_count\n",
       "sector                            \n",
       "Other                         1165\n",
       "EdTech                         967\n",
       "FinTech                        830\n",
       "Consumer Services              735\n",
       "Travel and Transport           707"
      ]
     },
     "execution_count": 7,
     "metadata": {},
     "output_type": "execute_result"
    }
   ],
   "source": [
    "sector_df.sort_values(['sector_count'], ascending=False).head()"
   ]
  },
  {
   "cell_type": "code",
   "execution_count": 8,
   "metadata": {},
   "outputs": [
    {
     "data": {
      "application/vnd.plotly.v1+json": {
       "data": [
        {
         "type": "bar",
         "x": [
          "Other",
          "EdTech",
          "FinTech",
          "Consumer Services",
          "Travel and Transport"
         ],
         "y": [
          1165,
          967,
          830,
          735,
          707
         ]
        }
       ],
       "layout": {}
      },
      "text/html": [
       "<div id=\"77a2f2b8-4fa9-4b23-a98f-588fa238bca2\" style=\"height: 525px; width: 100%;\" class=\"plotly-graph-div\"></div><script type=\"text/javascript\">require([\"plotly\"], function(Plotly) { window.PLOTLYENV=window.PLOTLYENV || {};window.PLOTLYENV.BASE_URL=\"https://plot.ly\";Plotly.newPlot(\"77a2f2b8-4fa9-4b23-a98f-588fa238bca2\", [{\"type\": \"bar\", \"x\": [\"Other\", \"EdTech\", \"FinTech\", \"Consumer Services\", \"Travel and Transport\"], \"y\": [1165, 967, 830, 735, 707]}], {}, {\"showLink\": true, \"linkText\": \"Export to plot.ly\"})});</script>"
      ],
      "text/vnd.plotly.v1+html": [
       "<div id=\"77a2f2b8-4fa9-4b23-a98f-588fa238bca2\" style=\"height: 525px; width: 100%;\" class=\"plotly-graph-div\"></div><script type=\"text/javascript\">require([\"plotly\"], function(Plotly) { window.PLOTLYENV=window.PLOTLYENV || {};window.PLOTLYENV.BASE_URL=\"https://plot.ly\";Plotly.newPlot(\"77a2f2b8-4fa9-4b23-a98f-588fa238bca2\", [{\"type\": \"bar\", \"x\": [\"Other\", \"EdTech\", \"FinTech\", \"Consumer Services\", \"Travel and Transport\"], \"y\": [1165, 967, 830, 735, 707]}], {}, {\"showLink\": true, \"linkText\": \"Export to plot.ly\"})});</script>"
      ]
     },
     "metadata": {},
     "output_type": "display_data"
    }
   ],
   "source": [
    "iplot([go.Bar(x=sector_df.sort_values(['sector_count'], ascending=False).head().index, y=sector_df.sort_values(['sector_count'], ascending=False).head().sector_count)])"
   ]
  },
  {
   "cell_type": "markdown",
   "metadata": {},
   "source": [
    "### Bottom 5 sectors"
   ]
  },
  {
   "cell_type": "code",
   "execution_count": 9,
   "metadata": {},
   "outputs": [
    {
     "data": {
      "text/html": [
       "<div>\n",
       "<style>\n",
       "    .dataframe thead tr:only-child th {\n",
       "        text-align: right;\n",
       "    }\n",
       "\n",
       "    .dataframe thead th {\n",
       "        text-align: left;\n",
       "    }\n",
       "\n",
       "    .dataframe tbody tr th {\n",
       "        vertical-align: top;\n",
       "    }\n",
       "</style>\n",
       "<table border=\"1\" class=\"dataframe\">\n",
       "  <thead>\n",
       "    <tr style=\"text-align: right;\">\n",
       "      <th></th>\n",
       "      <th>sector_count</th>\n",
       "    </tr>\n",
       "    <tr>\n",
       "      <th>sector</th>\n",
       "      <th></th>\n",
       "    </tr>\n",
       "  </thead>\n",
       "  <tbody>\n",
       "    <tr>\n",
       "      <th>agri</th>\n",
       "      <td>118</td>\n",
       "    </tr>\n",
       "    <tr>\n",
       "      <th>Sports</th>\n",
       "      <td>88</td>\n",
       "    </tr>\n",
       "    <tr>\n",
       "      <th>Security</th>\n",
       "      <td>82</td>\n",
       "    </tr>\n",
       "    <tr>\n",
       "      <th>hichtech</th>\n",
       "      <td>71</td>\n",
       "    </tr>\n",
       "    <tr>\n",
       "      <th>Aerospace</th>\n",
       "      <td>35</td>\n",
       "    </tr>\n",
       "  </tbody>\n",
       "</table>\n",
       "</div>"
      ],
      "text/plain": [
       "           sector_count\n",
       "sector                 \n",
       "agri                118\n",
       "Sports               88\n",
       "Security             82\n",
       "hichtech             71\n",
       "Aerospace            35"
      ]
     },
     "execution_count": 9,
     "metadata": {},
     "output_type": "execute_result"
    }
   ],
   "source": [
    "sector_df.sort_values(['sector_count'], ascending=False).tail()"
   ]
  },
  {
   "cell_type": "code",
   "execution_count": 10,
   "metadata": {},
   "outputs": [
    {
     "data": {
      "application/vnd.plotly.v1+json": {
       "data": [
        {
         "type": "bar",
         "x": [
          "agri",
          "Sports",
          "Security",
          "hichtech",
          "Aerospace"
         ],
         "y": [
          118,
          88,
          82,
          71,
          35
         ]
        }
       ],
       "layout": {}
      },
      "text/html": [
       "<div id=\"8e0a632a-af8b-4269-85ce-508f9a64d972\" style=\"height: 525px; width: 100%;\" class=\"plotly-graph-div\"></div><script type=\"text/javascript\">require([\"plotly\"], function(Plotly) { window.PLOTLYENV=window.PLOTLYENV || {};window.PLOTLYENV.BASE_URL=\"https://plot.ly\";Plotly.newPlot(\"8e0a632a-af8b-4269-85ce-508f9a64d972\", [{\"type\": \"bar\", \"x\": [\"agri\", \"Sports\", \"Security\", \"hichtech\", \"Aerospace\"], \"y\": [118, 88, 82, 71, 35]}], {}, {\"showLink\": true, \"linkText\": \"Export to plot.ly\"})});</script>"
      ],
      "text/vnd.plotly.v1+html": [
       "<div id=\"8e0a632a-af8b-4269-85ce-508f9a64d972\" style=\"height: 525px; width: 100%;\" class=\"plotly-graph-div\"></div><script type=\"text/javascript\">require([\"plotly\"], function(Plotly) { window.PLOTLYENV=window.PLOTLYENV || {};window.PLOTLYENV.BASE_URL=\"https://plot.ly\";Plotly.newPlot(\"8e0a632a-af8b-4269-85ce-508f9a64d972\", [{\"type\": \"bar\", \"x\": [\"agri\", \"Sports\", \"Security\", \"hichtech\", \"Aerospace\"], \"y\": [118, 88, 82, 71, 35]}], {}, {\"showLink\": true, \"linkText\": \"Export to plot.ly\"})});</script>"
      ]
     },
     "metadata": {},
     "output_type": "display_data"
    }
   ],
   "source": [
    "iplot([go.Bar(x=sector_df.sort_values(['sector_count'], ascending=False).tail().index, y=sector_df.sort_values(['sector_count'], ascending=False).tail().sector_count)])"
   ]
  },
  {
   "cell_type": "markdown",
   "metadata": {},
   "source": [
    "### All sectors"
   ]
  },
  {
   "cell_type": "code",
   "execution_count": 11,
   "metadata": {},
   "outputs": [
    {
     "data": {
      "application/vnd.plotly.v1+json": {
       "data": [
        {
         "type": "bar",
         "x": [
          "Advertising and Marketing",
          "Aerospace",
          "AgriTech",
          "Audio and Media",
          "Consumer Products",
          "Consumer Services",
          "EdTech",
          "Enterprise Products",
          "Enterprise Services",
          "FinTech",
          "Food and Beverage",
          "Gaming / Entertainment",
          "HR, Recruitment and Jobs",
          "HealthTech / Wellness",
          "HighTech / NanoTech /Materials",
          "Industrial / Energy / Clean Tech",
          "MedTech / BioTech",
          "Other",
          "Real Estate",
          "Security",
          "Social Networking and Collaboration",
          "Sports",
          "Telecommunications",
          "Travel and Transport",
          "agri",
          "hichtech"
         ],
         "y": [
          597,
          35,
          311,
          140,
          535,
          735,
          967,
          294,
          642,
          830,
          339,
          259,
          291,
          703,
          192,
          462,
          163,
          1165,
          178,
          82,
          533,
          88,
          141,
          707,
          118,
          71
         ]
        }
       ],
       "layout": {}
      },
      "text/html": [
       "<div id=\"b41f99d1-bdd4-4f27-8392-ee001c6c56e9\" style=\"height: 525px; width: 100%;\" class=\"plotly-graph-div\"></div><script type=\"text/javascript\">require([\"plotly\"], function(Plotly) { window.PLOTLYENV=window.PLOTLYENV || {};window.PLOTLYENV.BASE_URL=\"https://plot.ly\";Plotly.newPlot(\"b41f99d1-bdd4-4f27-8392-ee001c6c56e9\", [{\"type\": \"bar\", \"x\": [\"Advertising and Marketing\", \"Aerospace\", \"AgriTech\", \"Audio and Media\", \"Consumer Products\", \"Consumer Services\", \"EdTech\", \"Enterprise Products\", \"Enterprise Services\", \"FinTech\", \"Food and Beverage\", \"Gaming / Entertainment\", \"HR, Recruitment and Jobs\", \"HealthTech / Wellness\", \"HighTech / NanoTech /Materials\", \"Industrial / Energy / Clean Tech\", \"MedTech / BioTech\", \"Other\", \"Real Estate\", \"Security\", \"Social Networking and Collaboration\", \"Sports\", \"Telecommunications\", \"Travel and Transport\", \"agri\", \"hichtech\"], \"y\": [597, 35, 311, 140, 535, 735, 967, 294, 642, 830, 339, 259, 291, 703, 192, 462, 163, 1165, 178, 82, 533, 88, 141, 707, 118, 71]}], {}, {\"showLink\": true, \"linkText\": \"Export to plot.ly\"})});</script>"
      ],
      "text/vnd.plotly.v1+html": [
       "<div id=\"b41f99d1-bdd4-4f27-8392-ee001c6c56e9\" style=\"height: 525px; width: 100%;\" class=\"plotly-graph-div\"></div><script type=\"text/javascript\">require([\"plotly\"], function(Plotly) { window.PLOTLYENV=window.PLOTLYENV || {};window.PLOTLYENV.BASE_URL=\"https://plot.ly\";Plotly.newPlot(\"b41f99d1-bdd4-4f27-8392-ee001c6c56e9\", [{\"type\": \"bar\", \"x\": [\"Advertising and Marketing\", \"Aerospace\", \"AgriTech\", \"Audio and Media\", \"Consumer Products\", \"Consumer Services\", \"EdTech\", \"Enterprise Products\", \"Enterprise Services\", \"FinTech\", \"Food and Beverage\", \"Gaming / Entertainment\", \"HR, Recruitment and Jobs\", \"HealthTech / Wellness\", \"HighTech / NanoTech /Materials\", \"Industrial / Energy / Clean Tech\", \"MedTech / BioTech\", \"Other\", \"Real Estate\", \"Security\", \"Social Networking and Collaboration\", \"Sports\", \"Telecommunications\", \"Travel and Transport\", \"agri\", \"hichtech\"], \"y\": [597, 35, 311, 140, 535, 735, 967, 294, 642, 830, 339, 259, 291, 703, 192, 462, 163, 1165, 178, 82, 533, 88, 141, 707, 118, 71]}], {}, {\"showLink\": true, \"linkText\": \"Export to plot.ly\"})});</script>"
      ]
     },
     "metadata": {},
     "output_type": "display_data"
    }
   ],
   "source": [
    "iplot([go.Bar(x=sector_df.index, y=sector_df.sector_count)])"
   ]
  },
  {
   "cell_type": "markdown",
   "metadata": {},
   "source": [
    "## Startup Stage"
   ]
  },
  {
   "cell_type": "code",
   "execution_count": 12,
   "metadata": {
    "collapsed": true
   },
   "outputs": [],
   "source": [
    "stage_df = pd.DataFrame({'stage_count':df.groupby('stage').size()})"
   ]
  },
  {
   "cell_type": "markdown",
   "metadata": {},
   "source": [
    "### Top 5 Stage"
   ]
  },
  {
   "cell_type": "code",
   "execution_count": 13,
   "metadata": {},
   "outputs": [
    {
     "data": {
      "text/html": [
       "<div>\n",
       "<style>\n",
       "    .dataframe thead tr:only-child th {\n",
       "        text-align: right;\n",
       "    }\n",
       "\n",
       "    .dataframe thead th {\n",
       "        text-align: left;\n",
       "    }\n",
       "\n",
       "    .dataframe tbody tr th {\n",
       "        vertical-align: top;\n",
       "    }\n",
       "</style>\n",
       "<table border=\"1\" class=\"dataframe\">\n",
       "  <thead>\n",
       "    <tr style=\"text-align: right;\">\n",
       "      <th></th>\n",
       "      <th>stage_count</th>\n",
       "    </tr>\n",
       "    <tr>\n",
       "      <th>stage</th>\n",
       "      <th></th>\n",
       "    </tr>\n",
       "  </thead>\n",
       "  <tbody>\n",
       "    <tr>\n",
       "      <th>Pre-Revenue Stage</th>\n",
       "      <td>2640</td>\n",
       "    </tr>\n",
       "    <tr>\n",
       "      <th>Development Stage</th>\n",
       "      <td>2419</td>\n",
       "    </tr>\n",
       "    <tr>\n",
       "      <th>Beta Testing Stage</th>\n",
       "      <td>2198</td>\n",
       "    </tr>\n",
       "    <tr>\n",
       "      <th>Revenue Stage</th>\n",
       "      <td>2019</td>\n",
       "    </tr>\n",
       "    <tr>\n",
       "      <th>Idea Stage</th>\n",
       "      <td>734</td>\n",
       "    </tr>\n",
       "  </tbody>\n",
       "</table>\n",
       "</div>"
      ],
      "text/plain": [
       "                    stage_count\n",
       "stage                          \n",
       "Pre-Revenue Stage          2640\n",
       "Development Stage          2419\n",
       "Beta Testing Stage         2198\n",
       "Revenue Stage              2019\n",
       "Idea Stage                  734"
      ]
     },
     "execution_count": 13,
     "metadata": {},
     "output_type": "execute_result"
    }
   ],
   "source": [
    "stage_df.sort_values(['stage_count'], ascending=False).head()"
   ]
  },
  {
   "cell_type": "code",
   "execution_count": 14,
   "metadata": {},
   "outputs": [
    {
     "data": {
      "application/vnd.plotly.v1+json": {
       "data": [
        {
         "type": "bar",
         "x": [
          "Pre-Revenue Stage",
          "Development Stage",
          "Beta Testing Stage",
          "Revenue Stage",
          "Idea Stage"
         ],
         "y": [
          2640,
          2419,
          2198,
          2019,
          734
         ]
        }
       ],
       "layout": {}
      },
      "text/html": [
       "<div id=\"717faf0a-90af-4864-812b-4ea44787a71b\" style=\"height: 525px; width: 100%;\" class=\"plotly-graph-div\"></div><script type=\"text/javascript\">require([\"plotly\"], function(Plotly) { window.PLOTLYENV=window.PLOTLYENV || {};window.PLOTLYENV.BASE_URL=\"https://plot.ly\";Plotly.newPlot(\"717faf0a-90af-4864-812b-4ea44787a71b\", [{\"type\": \"bar\", \"x\": [\"Pre-Revenue Stage\", \"Development Stage\", \"Beta Testing Stage\", \"Revenue Stage\", \"Idea Stage\"], \"y\": [2640, 2419, 2198, 2019, 734]}], {}, {\"showLink\": true, \"linkText\": \"Export to plot.ly\"})});</script>"
      ],
      "text/vnd.plotly.v1+html": [
       "<div id=\"717faf0a-90af-4864-812b-4ea44787a71b\" style=\"height: 525px; width: 100%;\" class=\"plotly-graph-div\"></div><script type=\"text/javascript\">require([\"plotly\"], function(Plotly) { window.PLOTLYENV=window.PLOTLYENV || {};window.PLOTLYENV.BASE_URL=\"https://plot.ly\";Plotly.newPlot(\"717faf0a-90af-4864-812b-4ea44787a71b\", [{\"type\": \"bar\", \"x\": [\"Pre-Revenue Stage\", \"Development Stage\", \"Beta Testing Stage\", \"Revenue Stage\", \"Idea Stage\"], \"y\": [2640, 2419, 2198, 2019, 734]}], {}, {\"showLink\": true, \"linkText\": \"Export to plot.ly\"})});</script>"
      ]
     },
     "metadata": {},
     "output_type": "display_data"
    }
   ],
   "source": [
    "iplot([go.Bar(x=stage_df.sort_values(['stage_count'], ascending=False).head().index, y=stage_df.sort_values(['stage_count'], ascending=False).head().stage_count)])"
   ]
  },
  {
   "cell_type": "markdown",
   "metadata": {},
   "source": [
    "### Bottom 5 Stage"
   ]
  },
  {
   "cell_type": "code",
   "execution_count": 15,
   "metadata": {},
   "outputs": [
    {
     "data": {
      "text/html": [
       "<div>\n",
       "<style>\n",
       "    .dataframe thead tr:only-child th {\n",
       "        text-align: right;\n",
       "    }\n",
       "\n",
       "    .dataframe thead th {\n",
       "        text-align: left;\n",
       "    }\n",
       "\n",
       "    .dataframe tbody tr th {\n",
       "        vertical-align: top;\n",
       "    }\n",
       "</style>\n",
       "<table border=\"1\" class=\"dataframe\">\n",
       "  <thead>\n",
       "    <tr style=\"text-align: right;\">\n",
       "      <th></th>\n",
       "      <th>stage_count</th>\n",
       "    </tr>\n",
       "    <tr>\n",
       "      <th>stage</th>\n",
       "      <th></th>\n",
       "    </tr>\n",
       "  </thead>\n",
       "  <tbody>\n",
       "    <tr>\n",
       "      <th>Pre-Revenue Stage</th>\n",
       "      <td>2640</td>\n",
       "    </tr>\n",
       "    <tr>\n",
       "      <th>Development Stage</th>\n",
       "      <td>2419</td>\n",
       "    </tr>\n",
       "    <tr>\n",
       "      <th>Beta Testing Stage</th>\n",
       "      <td>2198</td>\n",
       "    </tr>\n",
       "    <tr>\n",
       "      <th>Revenue Stage</th>\n",
       "      <td>2019</td>\n",
       "    </tr>\n",
       "    <tr>\n",
       "      <th>Idea Stage</th>\n",
       "      <td>734</td>\n",
       "    </tr>\n",
       "    <tr>\n",
       "      <th>Expansion Stage</th>\n",
       "      <td>584</td>\n",
       "    </tr>\n",
       "    <tr>\n",
       "      <th>Dead</th>\n",
       "      <td>22</td>\n",
       "    </tr>\n",
       "    <tr>\n",
       "      <th>Acquired</th>\n",
       "      <td>6</td>\n",
       "    </tr>\n",
       "  </tbody>\n",
       "</table>\n",
       "</div>"
      ],
      "text/plain": [
       "                    stage_count\n",
       "stage                          \n",
       "Pre-Revenue Stage          2640\n",
       "Development Stage          2419\n",
       "Beta Testing Stage         2198\n",
       "Revenue Stage              2019\n",
       "Idea Stage                  734\n",
       "Expansion Stage             584\n",
       "Dead                         22\n",
       "Acquired                      6"
      ]
     },
     "execution_count": 15,
     "metadata": {},
     "output_type": "execute_result"
    }
   ],
   "source": [
    "stage_df.sort_values(['stage_count'], ascending=False)"
   ]
  },
  {
   "cell_type": "code",
   "execution_count": 16,
   "metadata": {},
   "outputs": [
    {
     "data": {
      "application/vnd.plotly.v1+json": {
       "data": [
        {
         "type": "bar",
         "x": [
          "Revenue Stage",
          "Idea Stage",
          "Expansion Stage",
          "Dead",
          "Acquired"
         ],
         "y": [
          2019,
          734,
          584,
          22,
          6
         ]
        }
       ],
       "layout": {}
      },
      "text/html": [
       "<div id=\"ca6b6657-9166-41e8-abff-919cd5d4b4ad\" style=\"height: 525px; width: 100%;\" class=\"plotly-graph-div\"></div><script type=\"text/javascript\">require([\"plotly\"], function(Plotly) { window.PLOTLYENV=window.PLOTLYENV || {};window.PLOTLYENV.BASE_URL=\"https://plot.ly\";Plotly.newPlot(\"ca6b6657-9166-41e8-abff-919cd5d4b4ad\", [{\"type\": \"bar\", \"x\": [\"Revenue Stage\", \"Idea Stage\", \"Expansion Stage\", \"Dead\", \"Acquired\"], \"y\": [2019, 734, 584, 22, 6]}], {}, {\"showLink\": true, \"linkText\": \"Export to plot.ly\"})});</script>"
      ],
      "text/vnd.plotly.v1+html": [
       "<div id=\"ca6b6657-9166-41e8-abff-919cd5d4b4ad\" style=\"height: 525px; width: 100%;\" class=\"plotly-graph-div\"></div><script type=\"text/javascript\">require([\"plotly\"], function(Plotly) { window.PLOTLYENV=window.PLOTLYENV || {};window.PLOTLYENV.BASE_URL=\"https://plot.ly\";Plotly.newPlot(\"ca6b6657-9166-41e8-abff-919cd5d4b4ad\", [{\"type\": \"bar\", \"x\": [\"Revenue Stage\", \"Idea Stage\", \"Expansion Stage\", \"Dead\", \"Acquired\"], \"y\": [2019, 734, 584, 22, 6]}], {}, {\"showLink\": true, \"linkText\": \"Export to plot.ly\"})});</script>"
      ]
     },
     "metadata": {},
     "output_type": "display_data"
    }
   ],
   "source": [
    "iplot([go.Bar(x=stage_df.sort_values(['stage_count'], ascending=False).tail().index, y=stage_df.sort_values(['stage_count'], ascending=False).tail().stage_count)])"
   ]
  },
  {
   "cell_type": "markdown",
   "metadata": {},
   "source": [
    "### All Stage"
   ]
  },
  {
   "cell_type": "code",
   "execution_count": 17,
   "metadata": {},
   "outputs": [
    {
     "data": {
      "application/vnd.plotly.v1+json": {
       "data": [
        {
         "type": "bar",
         "x": [
          "Acquired",
          "Beta Testing Stage",
          "Dead",
          "Development Stage",
          "Expansion Stage",
          "Idea Stage",
          "Pre-Revenue Stage",
          "Revenue Stage"
         ],
         "y": [
          597,
          35,
          311,
          140,
          535,
          735,
          967,
          294,
          642,
          830,
          339,
          259,
          291,
          703,
          192,
          462,
          163,
          1165,
          178,
          82,
          533,
          88,
          141,
          707,
          118,
          71
         ]
        }
       ],
       "layout": {}
      },
      "text/html": [
       "<div id=\"faf843cf-0f0d-4c8f-b4a9-fec94a83888d\" style=\"height: 525px; width: 100%;\" class=\"plotly-graph-div\"></div><script type=\"text/javascript\">require([\"plotly\"], function(Plotly) { window.PLOTLYENV=window.PLOTLYENV || {};window.PLOTLYENV.BASE_URL=\"https://plot.ly\";Plotly.newPlot(\"faf843cf-0f0d-4c8f-b4a9-fec94a83888d\", [{\"type\": \"bar\", \"x\": [\"Acquired\", \"Beta Testing Stage\", \"Dead\", \"Development Stage\", \"Expansion Stage\", \"Idea Stage\", \"Pre-Revenue Stage\", \"Revenue Stage\"], \"y\": [597, 35, 311, 140, 535, 735, 967, 294, 642, 830, 339, 259, 291, 703, 192, 462, 163, 1165, 178, 82, 533, 88, 141, 707, 118, 71]}], {}, {\"showLink\": true, \"linkText\": \"Export to plot.ly\"})});</script>"
      ],
      "text/vnd.plotly.v1+html": [
       "<div id=\"faf843cf-0f0d-4c8f-b4a9-fec94a83888d\" style=\"height: 525px; width: 100%;\" class=\"plotly-graph-div\"></div><script type=\"text/javascript\">require([\"plotly\"], function(Plotly) { window.PLOTLYENV=window.PLOTLYENV || {};window.PLOTLYENV.BASE_URL=\"https://plot.ly\";Plotly.newPlot(\"faf843cf-0f0d-4c8f-b4a9-fec94a83888d\", [{\"type\": \"bar\", \"x\": [\"Acquired\", \"Beta Testing Stage\", \"Dead\", \"Development Stage\", \"Expansion Stage\", \"Idea Stage\", \"Pre-Revenue Stage\", \"Revenue Stage\"], \"y\": [597, 35, 311, 140, 535, 735, 967, 294, 642, 830, 339, 259, 291, 703, 192, 462, 163, 1165, 178, 82, 533, 88, 141, 707, 118, 71]}], {}, {\"showLink\": true, \"linkText\": \"Export to plot.ly\"})});</script>"
      ]
     },
     "metadata": {},
     "output_type": "display_data"
    }
   ],
   "source": [
    "iplot([go.Bar(x=stage_df.index, y=sector_df.sector_count)])"
   ]
  },
  {
   "cell_type": "markdown",
   "metadata": {},
   "source": [
    "## Startup Countries"
   ]
  },
  {
   "cell_type": "code",
   "execution_count": 18,
   "metadata": {
    "collapsed": true
   },
   "outputs": [],
   "source": [
    "country_df = pd.DataFrame({'country_count':df.groupby('country').size()})"
   ]
  },
  {
   "cell_type": "markdown",
   "metadata": {},
   "source": [
    "### Top 5 Country"
   ]
  },
  {
   "cell_type": "code",
   "execution_count": 19,
   "metadata": {},
   "outputs": [
    {
     "data": {
      "text/html": [
       "<div>\n",
       "<style>\n",
       "    .dataframe thead tr:only-child th {\n",
       "        text-align: right;\n",
       "    }\n",
       "\n",
       "    .dataframe thead th {\n",
       "        text-align: left;\n",
       "    }\n",
       "\n",
       "    .dataframe tbody tr th {\n",
       "        vertical-align: top;\n",
       "    }\n",
       "</style>\n",
       "<table border=\"1\" class=\"dataframe\">\n",
       "  <thead>\n",
       "    <tr style=\"text-align: right;\">\n",
       "      <th></th>\n",
       "      <th>country_count</th>\n",
       "    </tr>\n",
       "    <tr>\n",
       "      <th>country</th>\n",
       "      <th></th>\n",
       "    </tr>\n",
       "  </thead>\n",
       "  <tbody>\n",
       "    <tr>\n",
       "      <th>Nigeria</th>\n",
       "      <td>295</td>\n",
       "    </tr>\n",
       "    <tr>\n",
       "      <th>Brazil</th>\n",
       "      <td>232</td>\n",
       "    </tr>\n",
       "    <tr>\n",
       "      <th>South Africa</th>\n",
       "      <td>218</td>\n",
       "    </tr>\n",
       "    <tr>\n",
       "      <th>Saudi Arabia</th>\n",
       "      <td>212</td>\n",
       "    </tr>\n",
       "    <tr>\n",
       "      <th>Bangladesh</th>\n",
       "      <td>192</td>\n",
       "    </tr>\n",
       "  </tbody>\n",
       "</table>\n",
       "</div>"
      ],
      "text/plain": [
       "              country_count\n",
       "country                    \n",
       "Nigeria                 295\n",
       "Brazil                  232\n",
       "South Africa            218\n",
       "Saudi Arabia            212\n",
       "Bangladesh              192"
      ]
     },
     "execution_count": 19,
     "metadata": {},
     "output_type": "execute_result"
    }
   ],
   "source": [
    "country_df.sort_values(['country_count'], ascending=False).head()"
   ]
  },
  {
   "cell_type": "code",
   "execution_count": 20,
   "metadata": {},
   "outputs": [
    {
     "data": {
      "application/vnd.plotly.v1+json": {
       "data": [
        {
         "type": "bar",
         "x": [
          "Nigeria",
          "Brazil",
          "South Africa",
          "Saudi Arabia",
          "Bangladesh"
         ],
         "y": [
          295,
          232,
          218,
          212,
          192
         ]
        }
       ],
       "layout": {}
      },
      "text/html": [
       "<div id=\"1d5515bc-b97b-4795-bd25-0b45ec68eef2\" style=\"height: 525px; width: 100%;\" class=\"plotly-graph-div\"></div><script type=\"text/javascript\">require([\"plotly\"], function(Plotly) { window.PLOTLYENV=window.PLOTLYENV || {};window.PLOTLYENV.BASE_URL=\"https://plot.ly\";Plotly.newPlot(\"1d5515bc-b97b-4795-bd25-0b45ec68eef2\", [{\"type\": \"bar\", \"x\": [\"Nigeria\", \"Brazil\", \"South Africa\", \"Saudi Arabia\", \"Bangladesh\"], \"y\": [295, 232, 218, 212, 192]}], {}, {\"showLink\": true, \"linkText\": \"Export to plot.ly\"})});</script>"
      ],
      "text/vnd.plotly.v1+html": [
       "<div id=\"1d5515bc-b97b-4795-bd25-0b45ec68eef2\" style=\"height: 525px; width: 100%;\" class=\"plotly-graph-div\"></div><script type=\"text/javascript\">require([\"plotly\"], function(Plotly) { window.PLOTLYENV=window.PLOTLYENV || {};window.PLOTLYENV.BASE_URL=\"https://plot.ly\";Plotly.newPlot(\"1d5515bc-b97b-4795-bd25-0b45ec68eef2\", [{\"type\": \"bar\", \"x\": [\"Nigeria\", \"Brazil\", \"South Africa\", \"Saudi Arabia\", \"Bangladesh\"], \"y\": [295, 232, 218, 212, 192]}], {}, {\"showLink\": true, \"linkText\": \"Export to plot.ly\"})});</script>"
      ]
     },
     "metadata": {},
     "output_type": "display_data"
    }
   ],
   "source": [
    "iplot([go.Bar(x=country_df.sort_values(['country_count'], ascending=False).head().index, y=country_df.sort_values(['country_count'], ascending=False).head().country_count)])"
   ]
  },
  {
   "cell_type": "markdown",
   "metadata": {},
   "source": [
    "### All Countries"
   ]
  },
  {
   "cell_type": "code",
   "execution_count": 21,
   "metadata": {},
   "outputs": [
    {
     "data": {
      "application/vnd.plotly.v1+json": {
       "data": [
        {
         "type": "bar",
         "x": [
          "Afghanistan",
          "Algeria",
          "Angola",
          "Argentina",
          "Armenia",
          "Australia",
          "Austria",
          "Azerbaijan",
          "Bahrain",
          "Bangladesh",
          "Barbados",
          "Belarus",
          "Benin",
          "Bolivia (Plurinational State of)",
          "Botswana",
          "Brazil",
          "Bulgaria",
          "Burkina Faso",
          "Cambodia",
          "Cameroon",
          "Canada",
          "Chile",
          "China",
          "Colombia",
          "Congo (the Democratic Republic of the)",
          "Costa Rica",
          "Croatia",
          "Cyprus",
          "Czech Republic",
          "Côte d'Ivoire",
          "Denmark",
          "Dominican Republic",
          "Ecuador",
          "Egypt",
          "Estonia",
          "Ethiopia",
          "Finland",
          "France",
          "Gabon",
          "Gambia",
          "Georgia",
          "Germany",
          "Ghana",
          "Guinea-Bissau",
          "Hong Kong",
          "India",
          "Indonesia",
          "Iran (Islamic Republic of)",
          "Iraq",
          "Ireland",
          "Israel",
          "Italy",
          "Jamaica",
          "Japan",
          "Jordan",
          "Kazakhstan",
          "Kenya",
          "Korea (the Republic of)",
          "Kuwait",
          "Kyrgyzstan",
          "Lebanon",
          "Lesotho",
          "Liberia",
          "Libya",
          "Malawi",
          "Malaysia",
          "Mali",
          "Mauritius",
          "Mexico",
          "Moldova (the Republic of)",
          "Mongolia",
          "Morocco",
          "Mozambique",
          "Myanmar",
          "Nepal",
          "Netherlands",
          "New Zealand",
          "Nigeria",
          "Oman",
          "Pakistan",
          "Palestine, State of",
          "Panama",
          "Peru",
          "Philippines",
          "Poland",
          "Portugal",
          "Qatar",
          "Romania",
          "Russian Federation",
          "Rwanda",
          "Saudi Arabia",
          "Senegal",
          "Serbia",
          "Singapore",
          "Slovakia",
          "Slovenia",
          "Somalia",
          "South Africa",
          "Spain",
          "Sri Lanka",
          "Sudan",
          "Swaziland",
          "Switzerland",
          "Syrian Arab Republic",
          "Taiwan (Province of China)",
          "Tajikistan",
          "Tanzania, United Republic of",
          "Thailand",
          "Togo",
          "Tunisia",
          "Turkey",
          "Uganda",
          "Ukraine",
          "United Arab Emirates",
          "United Kingdom of Great Britain and Northern Ireland",
          "United States of America",
          "Uruguay",
          "Uzbekistan",
          "Viet Nam",
          "Zambia",
          "Zimbabwe",
          "Åland Islands"
         ],
         "y": [
          3,
          14,
          49,
          104,
          71,
          7,
          3,
          37,
          40,
          192,
          1,
          4,
          2,
          83,
          38,
          232,
          1,
          1,
          13,
          60,
          9,
          178,
          36,
          159,
          80,
          42,
          6,
          1,
          45,
          42,
          1,
          65,
          61,
          95,
          9,
          21,
          1,
          13,
          1,
          1,
          60,
          8,
          132,
          8,
          58,
          127,
          176,
          161,
          6,
          5,
          2,
          2,
          35,
          1,
          87,
          90,
          97,
          33,
          25,
          2,
          61,
          2,
          1,
          39,
          1,
          124,
          15,
          1,
          122,
          21,
          44,
          69,
          76,
          26,
          74,
          13,
          1,
          295,
          9,
          40,
          5,
          10,
          133,
          77,
          5,
          6,
          2,
          2,
          78,
          73,
          212,
          51,
          4,
          94,
          1,
          1,
          1,
          218,
          1,
          46,
          1,
          1,
          21,
          1,
          4,
          1,
          66,
          70,
          2,
          66,
          95,
          99,
          104,
          67,
          30,
          69,
          29,
          35,
          44,
          7,
          75,
          1
         ]
        }
       ],
       "layout": {}
      },
      "text/html": [
       "<div id=\"cee8a1dc-366e-4829-a04c-f65ff54f6724\" style=\"height: 525px; width: 100%;\" class=\"plotly-graph-div\"></div><script type=\"text/javascript\">require([\"plotly\"], function(Plotly) { window.PLOTLYENV=window.PLOTLYENV || {};window.PLOTLYENV.BASE_URL=\"https://plot.ly\";Plotly.newPlot(\"cee8a1dc-366e-4829-a04c-f65ff54f6724\", [{\"type\": \"bar\", \"x\": [\"Afghanistan\", \"Algeria\", \"Angola\", \"Argentina\", \"Armenia\", \"Australia\", \"Austria\", \"Azerbaijan\", \"Bahrain\", \"Bangladesh\", \"Barbados\", \"Belarus\", \"Benin\", \"Bolivia (Plurinational State of)\", \"Botswana\", \"Brazil\", \"Bulgaria\", \"Burkina Faso\", \"Cambodia\", \"Cameroon\", \"Canada\", \"Chile\", \"China\", \"Colombia\", \"Congo (the Democratic Republic of the)\", \"Costa Rica\", \"Croatia\", \"Cyprus\", \"Czech Republic\", \"C\\u00f4te d'Ivoire\", \"Denmark\", \"Dominican Republic\", \"Ecuador\", \"Egypt\", \"Estonia\", \"Ethiopia\", \"Finland\", \"France\", \"Gabon\", \"Gambia\", \"Georgia\", \"Germany\", \"Ghana\", \"Guinea-Bissau\", \"Hong Kong\", \"India\", \"Indonesia\", \"Iran (Islamic Republic of)\", \"Iraq\", \"Ireland\", \"Israel\", \"Italy\", \"Jamaica\", \"Japan\", \"Jordan\", \"Kazakhstan\", \"Kenya\", \"Korea (the Republic of)\", \"Kuwait\", \"Kyrgyzstan\", \"Lebanon\", \"Lesotho\", \"Liberia\", \"Libya\", \"Malawi\", \"Malaysia\", \"Mali\", \"Mauritius\", \"Mexico\", \"Moldova (the Republic of)\", \"Mongolia\", \"Morocco\", \"Mozambique\", \"Myanmar\", \"Nepal\", \"Netherlands\", \"New Zealand\", \"Nigeria\", \"Oman\", \"Pakistan\", \"Palestine, State of\", \"Panama\", \"Peru\", \"Philippines\", \"Poland\", \"Portugal\", \"Qatar\", \"Romania\", \"Russian Federation\", \"Rwanda\", \"Saudi Arabia\", \"Senegal\", \"Serbia\", \"Singapore\", \"Slovakia\", \"Slovenia\", \"Somalia\", \"South Africa\", \"Spain\", \"Sri Lanka\", \"Sudan\", \"Swaziland\", \"Switzerland\", \"Syrian Arab Republic\", \"Taiwan (Province of China)\", \"Tajikistan\", \"Tanzania, United Republic of\", \"Thailand\", \"Togo\", \"Tunisia\", \"Turkey\", \"Uganda\", \"Ukraine\", \"United Arab Emirates\", \"United Kingdom of Great Britain and Northern Ireland\", \"United States of America\", \"Uruguay\", \"Uzbekistan\", \"Viet Nam\", \"Zambia\", \"Zimbabwe\", \"\\u00c5land Islands\"], \"y\": [3, 14, 49, 104, 71, 7, 3, 37, 40, 192, 1, 4, 2, 83, 38, 232, 1, 1, 13, 60, 9, 178, 36, 159, 80, 42, 6, 1, 45, 42, 1, 65, 61, 95, 9, 21, 1, 13, 1, 1, 60, 8, 132, 8, 58, 127, 176, 161, 6, 5, 2, 2, 35, 1, 87, 90, 97, 33, 25, 2, 61, 2, 1, 39, 1, 124, 15, 1, 122, 21, 44, 69, 76, 26, 74, 13, 1, 295, 9, 40, 5, 10, 133, 77, 5, 6, 2, 2, 78, 73, 212, 51, 4, 94, 1, 1, 1, 218, 1, 46, 1, 1, 21, 1, 4, 1, 66, 70, 2, 66, 95, 99, 104, 67, 30, 69, 29, 35, 44, 7, 75, 1]}], {}, {\"showLink\": true, \"linkText\": \"Export to plot.ly\"})});</script>"
      ],
      "text/vnd.plotly.v1+html": [
       "<div id=\"cee8a1dc-366e-4829-a04c-f65ff54f6724\" style=\"height: 525px; width: 100%;\" class=\"plotly-graph-div\"></div><script type=\"text/javascript\">require([\"plotly\"], function(Plotly) { window.PLOTLYENV=window.PLOTLYENV || {};window.PLOTLYENV.BASE_URL=\"https://plot.ly\";Plotly.newPlot(\"cee8a1dc-366e-4829-a04c-f65ff54f6724\", [{\"type\": \"bar\", \"x\": [\"Afghanistan\", \"Algeria\", \"Angola\", \"Argentina\", \"Armenia\", \"Australia\", \"Austria\", \"Azerbaijan\", \"Bahrain\", \"Bangladesh\", \"Barbados\", \"Belarus\", \"Benin\", \"Bolivia (Plurinational State of)\", \"Botswana\", \"Brazil\", \"Bulgaria\", \"Burkina Faso\", \"Cambodia\", \"Cameroon\", \"Canada\", \"Chile\", \"China\", \"Colombia\", \"Congo (the Democratic Republic of the)\", \"Costa Rica\", \"Croatia\", \"Cyprus\", \"Czech Republic\", \"C\\u00f4te d'Ivoire\", \"Denmark\", \"Dominican Republic\", \"Ecuador\", \"Egypt\", \"Estonia\", \"Ethiopia\", \"Finland\", \"France\", \"Gabon\", \"Gambia\", \"Georgia\", \"Germany\", \"Ghana\", \"Guinea-Bissau\", \"Hong Kong\", \"India\", \"Indonesia\", \"Iran (Islamic Republic of)\", \"Iraq\", \"Ireland\", \"Israel\", \"Italy\", \"Jamaica\", \"Japan\", \"Jordan\", \"Kazakhstan\", \"Kenya\", \"Korea (the Republic of)\", \"Kuwait\", \"Kyrgyzstan\", \"Lebanon\", \"Lesotho\", \"Liberia\", \"Libya\", \"Malawi\", \"Malaysia\", \"Mali\", \"Mauritius\", \"Mexico\", \"Moldova (the Republic of)\", \"Mongolia\", \"Morocco\", \"Mozambique\", \"Myanmar\", \"Nepal\", \"Netherlands\", \"New Zealand\", \"Nigeria\", \"Oman\", \"Pakistan\", \"Palestine, State of\", \"Panama\", \"Peru\", \"Philippines\", \"Poland\", \"Portugal\", \"Qatar\", \"Romania\", \"Russian Federation\", \"Rwanda\", \"Saudi Arabia\", \"Senegal\", \"Serbia\", \"Singapore\", \"Slovakia\", \"Slovenia\", \"Somalia\", \"South Africa\", \"Spain\", \"Sri Lanka\", \"Sudan\", \"Swaziland\", \"Switzerland\", \"Syrian Arab Republic\", \"Taiwan (Province of China)\", \"Tajikistan\", \"Tanzania, United Republic of\", \"Thailand\", \"Togo\", \"Tunisia\", \"Turkey\", \"Uganda\", \"Ukraine\", \"United Arab Emirates\", \"United Kingdom of Great Britain and Northern Ireland\", \"United States of America\", \"Uruguay\", \"Uzbekistan\", \"Viet Nam\", \"Zambia\", \"Zimbabwe\", \"\\u00c5land Islands\"], \"y\": [3, 14, 49, 104, 71, 7, 3, 37, 40, 192, 1, 4, 2, 83, 38, 232, 1, 1, 13, 60, 9, 178, 36, 159, 80, 42, 6, 1, 45, 42, 1, 65, 61, 95, 9, 21, 1, 13, 1, 1, 60, 8, 132, 8, 58, 127, 176, 161, 6, 5, 2, 2, 35, 1, 87, 90, 97, 33, 25, 2, 61, 2, 1, 39, 1, 124, 15, 1, 122, 21, 44, 69, 76, 26, 74, 13, 1, 295, 9, 40, 5, 10, 133, 77, 5, 6, 2, 2, 78, 73, 212, 51, 4, 94, 1, 1, 1, 218, 1, 46, 1, 1, 21, 1, 4, 1, 66, 70, 2, 66, 95, 99, 104, 67, 30, 69, 29, 35, 44, 7, 75, 1]}], {}, {\"showLink\": true, \"linkText\": \"Export to plot.ly\"})});</script>"
      ]
     },
     "metadata": {},
     "output_type": "display_data"
    }
   ],
   "source": [
    "iplot([go.Bar(x=country_df.index, y=country_df.country_count)])"
   ]
  }
 ],
 "metadata": {
  "kernelspec": {
   "display_name": "Python 3",
   "language": "python",
   "name": "python3"
  },
  "language_info": {
   "codemirror_mode": {
    "name": "ipython",
    "version": 3
   },
   "file_extension": ".py",
   "mimetype": "text/x-python",
   "name": "python",
   "nbconvert_exporter": "python",
   "pygments_lexer": "ipython3",
   "version": "3.6.3"
  }
 },
 "nbformat": 4,
 "nbformat_minor": 2
}
