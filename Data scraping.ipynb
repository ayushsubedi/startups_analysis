{
 "cells": [
  {
   "cell_type": "code",
   "execution_count": 1,
   "metadata": {
    "collapsed": true
   },
   "outputs": [],
   "source": [
    "import requests\n",
    "from bs4 import BeautifulSoup\n",
    "import re\n",
    "import pandas as pd"
   ]
  },
  {
   "cell_type": "code",
   "execution_count": 2,
   "metadata": {
    "collapsed": true
   },
   "outputs": [],
   "source": [
    "page = requests.get('https://www.seedstarsworld.com/company/59181')\n",
    "soup = BeautifulSoup(page.content, 'html.parser')"
   ]
  },
  {
   "cell_type": "markdown",
   "metadata": {},
   "source": [
    "### Description"
   ]
  },
  {
   "cell_type": "code",
   "execution_count": 4,
   "metadata": {},
   "outputs": [
    {
     "data": {
      "text/plain": [
       "\"We commercialize the beta-keratin for the first time in the world, that's because your health is our mission and your beauty is our passion!\""
      ]
     },
     "execution_count": 4,
     "metadata": {},
     "output_type": "execute_result"
    }
   ],
   "source": [
    "soup.find_all('p')[0].get_text()"
   ]
  },
  {
   "cell_type": "markdown",
   "metadata": {},
   "source": [
    "### Problem"
   ]
  },
  {
   "cell_type": "code",
   "execution_count": 5,
   "metadata": {},
   "outputs": [
    {
     "data": {
      "text/plain": [
       "'the existant keratin is the alpha-keratin, it needs chemicals and synthetic fixators to be fixed by the human body, so it causes irritation '"
      ]
     },
     "execution_count": 5,
     "metadata": {},
     "output_type": "execute_result"
    }
   ],
   "source": [
    "soup.find_all('p')[1].get_text()"
   ]
  },
  {
   "cell_type": "markdown",
   "metadata": {},
   "source": [
    "### Solution"
   ]
  },
  {
   "cell_type": "code",
   "execution_count": 6,
   "metadata": {},
   "outputs": [
    {
     "data": {
      "text/plain": [
       "\"we provided the beta-keratin, without chemicals because it's a human & natural protein to giveup chemicals dommages and give more efficiency\""
      ]
     },
     "execution_count": 6,
     "metadata": {},
     "output_type": "execute_result"
    }
   ],
   "source": [
    "soup.find_all('p')[2].get_text()"
   ]
  },
  {
   "cell_type": "markdown",
   "metadata": {},
   "source": [
    "### Startup name"
   ]
  },
  {
   "cell_type": "code",
   "execution_count": 7,
   "metadata": {},
   "outputs": [
    {
     "data": {
      "text/plain": [
       "'Pharmatech S.A'"
      ]
     },
     "execution_count": 7,
     "metadata": {},
     "output_type": "execute_result"
    }
   ],
   "source": [
    "soup.find_all('h1')[0].get_text()"
   ]
  },
  {
   "cell_type": "markdown",
   "metadata": {},
   "source": [
    "### Country"
   ]
  },
  {
   "cell_type": "code",
   "execution_count": 8,
   "metadata": {},
   "outputs": [
    {
     "data": {
      "text/plain": [
       "'Tunisia'"
      ]
     },
     "execution_count": 8,
     "metadata": {},
     "output_type": "execute_result"
    }
   ],
   "source": [
    "soup.body.findAll(text=re.compile('Country:'))[0][9:]"
   ]
  },
  {
   "cell_type": "markdown",
   "metadata": {},
   "source": [
    "### City"
   ]
  },
  {
   "cell_type": "code",
   "execution_count": 9,
   "metadata": {},
   "outputs": [
    {
     "data": {
      "text/plain": [
       "'Monastir'"
      ]
     },
     "execution_count": 9,
     "metadata": {},
     "output_type": "execute_result"
    }
   ],
   "source": [
    "soup.body.findAll(text=re.compile('City:'))[0][6:]"
   ]
  },
  {
   "cell_type": "markdown",
   "metadata": {},
   "source": [
    "### Stage"
   ]
  },
  {
   "cell_type": "code",
   "execution_count": 10,
   "metadata": {},
   "outputs": [
    {
     "data": {
      "text/plain": [
       "'Revenue Stage'"
      ]
     },
     "execution_count": 10,
     "metadata": {},
     "output_type": "execute_result"
    }
   ],
   "source": [
    "soup.body.findAll(text=re.compile('Stage:'))[0][7:]"
   ]
  },
  {
   "cell_type": "markdown",
   "metadata": {},
   "source": [
    "### Sector"
   ]
  },
  {
   "cell_type": "code",
   "execution_count": 11,
   "metadata": {},
   "outputs": [
    {
     "data": {
      "text/plain": [
       "'HealthTech / Wellness'"
      ]
     },
     "execution_count": 11,
     "metadata": {},
     "output_type": "execute_result"
    }
   ],
   "source": [
    "soup.body.findAll(text=re.compile('Sector:'))[0][8:]"
   ]
  },
  {
   "cell_type": "markdown",
   "metadata": {},
   "source": [
    "### Data Structure"
   ]
  },
  {
   "cell_type": "code",
   "execution_count": 12,
   "metadata": {},
   "outputs": [
    {
     "data": {
      "text/plain": [
       "{'city': 'Monastir',\n",
       " 'country': 'Tunisia',\n",
       " 'description': \"We commercialize the beta-keratin for the first time in the world, that's because your health is our mission and your beauty is our passion!\",\n",
       " 'id': 1,\n",
       " 'name': 'Pharmatech S.A',\n",
       " 'problem': 'the existant keratin is the alpha-keratin, it needs chemicals and synthetic fixators to be fixed by the human body, so it causes irritation ',\n",
       " 'solution': \"we provided the beta-keratin, without chemicals because it's a human & natural protein to giveup chemicals dommages and give more efficiency\",\n",
       " 'stage': 'Revenue Stage'}"
      ]
     },
     "execution_count": 12,
     "metadata": {},
     "output_type": "execute_result"
    }
   ],
   "source": [
    "{'id': 1, \n",
    " 'name': soup.find_all('h1')[0].get_text(), \n",
    " 'country': soup.body.findAll(text=re.compile('Country:'))[0][9:],\n",
    " 'city': soup.body.findAll(text=re.compile('City:'))[0][6:],\n",
    " 'stage': soup.body.findAll(text=re.compile('Stage:'))[0][7:],\n",
    " 'description': soup.find_all('p')[0].get_text(),\n",
    " 'problem': soup.find_all('p')[1].get_text(),\n",
    " 'solution': soup.find_all('p')[2].get_text(),\n",
    " 'sector': soup.body.findAll(text=re.compile('Sector:'))[0][8:],\n",
    "}"
   ]
  },
  {
   "cell_type": "code",
   "execution_count": 13,
   "metadata": {
    "collapsed": true
   },
   "outputs": [],
   "source": [
    "list_startup = []"
   ]
  },
  {
   "cell_type": "code",
   "execution_count": 15,
   "metadata": {},
   "outputs": [
    {
     "data": {
      "text/plain": [
       "200"
      ]
     },
     "execution_count": 15,
     "metadata": {},
     "output_type": "execute_result"
    }
   ],
   "source": [
    "page = requests.get('https://www.seedstarsworld.com/company/35704')\n",
    "page.status_code"
   ]
  },
  {
   "cell_type": "code",
   "execution_count": null,
   "metadata": {
    "collapsed": true
   },
   "outputs": [],
   "source": [
    "for i in range(35704, 70212):\n",
    "    web = 'https://www.seedstarsworld.com/company/'+str(i)\n",
    "    page = requests.get(web)\n",
    "    soup = BeautifulSoup(page.content, 'html.parser')\n",
    "    if page.status_code==200:\n",
    "        page_dict = {'id': str(i), \n",
    "         'name': soup.find_all('h1')[0].get_text(), \n",
    "         'country': soup.body.findAll(text=re.compile('Country:'))[0][9:],\n",
    "         'city': soup.body.findAll(text=re.compile('City:'))[0][6:],\n",
    "         'stage': soup.body.findAll(text=re.compile('Stage:'))[0][7:],\n",
    "         'description': soup.find_all('p')[0].get_text(),\n",
    "         'problem': soup.find_all('p')[1].get_text(),\n",
    "         'solution': soup.find_all('p')[2].get_text(),\n",
    "         'sector': soup.body.findAll(text=re.compile('Sector:'))[0][8:]\n",
    "        }\n",
    "        list_startup.append(page_dict)"
   ]
  }
 ],
 "metadata": {
  "kernelspec": {
   "display_name": "Python 3",
   "language": "python",
   "name": "python3"
  },
  "language_info": {
   "codemirror_mode": {
    "name": "ipython",
    "version": 3
   },
   "file_extension": ".py",
   "mimetype": "text/x-python",
   "name": "python",
   "nbconvert_exporter": "python",
   "pygments_lexer": "ipython3",
   "version": "3.6.3"
  }
 },
 "nbformat": 4,
 "nbformat_minor": 2
}
